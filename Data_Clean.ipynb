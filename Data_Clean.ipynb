{
 "cells": [
  {
   "cell_type": "code",
   "execution_count": 1,
   "id": "88456702",
   "metadata": {},
   "outputs": [],
   "source": [
    "import pandas as pd"
   ]
  },
  {
   "cell_type": "code",
   "execution_count": 2,
   "id": "04373bb5",
   "metadata": {},
   "outputs": [],
   "source": [
    "data = 'Data_Original.csv'\n",
    "df = pd.read_csv(data)"
   ]
  },
  {
   "cell_type": "code",
   "execution_count": 3,
   "id": "b6b11af8",
   "metadata": {},
   "outputs": [
    {
     "data": {
      "text/html": [
       "<div>\n",
       "<style scoped>\n",
       "    .dataframe tbody tr th:only-of-type {\n",
       "        vertical-align: middle;\n",
       "    }\n",
       "\n",
       "    .dataframe tbody tr th {\n",
       "        vertical-align: top;\n",
       "    }\n",
       "\n",
       "    .dataframe thead th {\n",
       "        text-align: right;\n",
       "    }\n",
       "</style>\n",
       "<table border=\"1\" class=\"dataframe\">\n",
       "  <thead>\n",
       "    <tr style=\"text-align: right;\">\n",
       "      <th></th>\n",
       "      <th>id</th>\n",
       "      <th>nombre</th>\n",
       "      <th>edad</th>\n",
       "      <th>altura</th>\n",
       "      <th>ciudad</th>\n",
       "      <th>color_ojos</th>\n",
       "      <th>fecha_cumpleaños</th>\n",
       "    </tr>\n",
       "  </thead>\n",
       "  <tbody>\n",
       "    <tr>\n",
       "      <th>0</th>\n",
       "      <td>986</td>\n",
       "      <td>Pedro</td>\n",
       "      <td>36.0</td>\n",
       "      <td>157</td>\n",
       "      <td>Barcelona</td>\n",
       "      <td>Azul</td>\n",
       "      <td>06/2004</td>\n",
       "    </tr>\n",
       "    <tr>\n",
       "      <th>1</th>\n",
       "      <td>613</td>\n",
       "      <td>Luisa</td>\n",
       "      <td>63.0</td>\n",
       "      <td>158</td>\n",
       "      <td>Sevilla</td>\n",
       "      <td>Marrón</td>\n",
       "      <td>12/1985</td>\n",
       "    </tr>\n",
       "    <tr>\n",
       "      <th>2</th>\n",
       "      <td>263</td>\n",
       "      <td>Sara</td>\n",
       "      <td>NaN</td>\n",
       "      <td>165</td>\n",
       "      <td>Zaragoza</td>\n",
       "      <td>Negro</td>\n",
       "      <td>05/2004</td>\n",
       "    </tr>\n",
       "    <tr>\n",
       "      <th>3</th>\n",
       "      <td>452</td>\n",
       "      <td>Sara</td>\n",
       "      <td>NaN</td>\n",
       "      <td>182</td>\n",
       "      <td>Zaragoza</td>\n",
       "      <td>Azul</td>\n",
       "      <td>08/2004</td>\n",
       "    </tr>\n",
       "    <tr>\n",
       "      <th>4</th>\n",
       "      <td>516</td>\n",
       "      <td>Ana</td>\n",
       "      <td>70.0</td>\n",
       "      <td>144</td>\n",
       "      <td>Madrid</td>\n",
       "      <td>Verde</td>\n",
       "      <td>11/1992</td>\n",
       "    </tr>\n",
       "    <tr>\n",
       "      <th>...</th>\n",
       "      <td>...</td>\n",
       "      <td>...</td>\n",
       "      <td>...</td>\n",
       "      <td>...</td>\n",
       "      <td>...</td>\n",
       "      <td>...</td>\n",
       "      <td>...</td>\n",
       "    </tr>\n",
       "    <tr>\n",
       "      <th>995</th>\n",
       "      <td>106</td>\n",
       "      <td>Juan</td>\n",
       "      <td>NaN</td>\n",
       "      <td>153</td>\n",
       "      <td>Valencia</td>\n",
       "      <td>Azul</td>\n",
       "      <td>03/1981</td>\n",
       "    </tr>\n",
       "    <tr>\n",
       "      <th>996</th>\n",
       "      <td>616</td>\n",
       "      <td>Juan</td>\n",
       "      <td>50.0</td>\n",
       "      <td>161</td>\n",
       "      <td>Barcelona</td>\n",
       "      <td>Marrón</td>\n",
       "      <td>01/2003</td>\n",
       "    </tr>\n",
       "    <tr>\n",
       "      <th>997</th>\n",
       "      <td>965</td>\n",
       "      <td>Elena</td>\n",
       "      <td>NaN</td>\n",
       "      <td>174</td>\n",
       "      <td>Zaragoza</td>\n",
       "      <td>Verde</td>\n",
       "      <td>08/2005</td>\n",
       "    </tr>\n",
       "    <tr>\n",
       "      <th>998</th>\n",
       "      <td>483</td>\n",
       "      <td>Pablo</td>\n",
       "      <td>65.0</td>\n",
       "      <td>147</td>\n",
       "      <td>Zaragoza</td>\n",
       "      <td>NaN</td>\n",
       "      <td>04/2003</td>\n",
       "    </tr>\n",
       "    <tr>\n",
       "      <th>999</th>\n",
       "      <td>896</td>\n",
       "      <td>Pablo</td>\n",
       "      <td>56.0</td>\n",
       "      <td>187</td>\n",
       "      <td>Sevilla</td>\n",
       "      <td>Azul</td>\n",
       "      <td>05/1992</td>\n",
       "    </tr>\n",
       "  </tbody>\n",
       "</table>\n",
       "<p>1000 rows × 7 columns</p>\n",
       "</div>"
      ],
      "text/plain": [
       "      id nombre  edad  altura     ciudad color_ojos fecha_cumpleaños\n",
       "0    986  Pedro  36.0     157  Barcelona       Azul          06/2004\n",
       "1    613  Luisa  63.0     158    Sevilla     Marrón          12/1985\n",
       "2    263   Sara   NaN     165   Zaragoza      Negro          05/2004\n",
       "3    452   Sara   NaN     182   Zaragoza       Azul          08/2004\n",
       "4    516    Ana  70.0     144     Madrid      Verde          11/1992\n",
       "..   ...    ...   ...     ...        ...        ...              ...\n",
       "995  106   Juan   NaN     153   Valencia       Azul          03/1981\n",
       "996  616   Juan  50.0     161  Barcelona     Marrón          01/2003\n",
       "997  965  Elena   NaN     174   Zaragoza      Verde          08/2005\n",
       "998  483  Pablo  65.0     147   Zaragoza        NaN          04/2003\n",
       "999  896  Pablo  56.0     187    Sevilla       Azul          05/1992\n",
       "\n",
       "[1000 rows x 7 columns]"
      ]
     },
     "execution_count": 3,
     "metadata": {},
     "output_type": "execute_result"
    }
   ],
   "source": [
    "df"
   ]
  },
  {
   "cell_type": "code",
   "execution_count": 4,
   "id": "79db6d53",
   "metadata": {},
   "outputs": [
    {
     "name": "stdout",
     "output_type": "stream",
     "text": [
      "<class 'pandas.core.frame.DataFrame'>\n",
      "RangeIndex: 1000 entries, 0 to 999\n",
      "Data columns (total 7 columns):\n",
      " #   Column            Non-Null Count  Dtype  \n",
      "---  ------            --------------  -----  \n",
      " 0   id                1000 non-null   int64  \n",
      " 1   nombre            900 non-null    object \n",
      " 2   edad              901 non-null    float64\n",
      " 3   altura            1000 non-null   int64  \n",
      " 4   ciudad            899 non-null    object \n",
      " 5   color_ojos        900 non-null    object \n",
      " 6   fecha_cumpleaños  904 non-null    object \n",
      "dtypes: float64(1), int64(2), object(4)\n",
      "memory usage: 54.8+ KB\n"
     ]
    }
   ],
   "source": [
    "df.info()"
   ]
  },
  {
   "cell_type": "markdown",
   "id": "2e040eeb",
   "metadata": {},
   "source": [
    "*La función ***df.info()*** en Pandas proporciona un resumen conciso del DataFrame llamado df. Indica que tiene 1000 filas (de índice 0 a 999) y 7 columnas: id (entero, sin valores nulos), nombre (objeto/string, 100 valores nulos), edad (float, 99 valores nulos), altura (entero, sin valores nulos), ciudad (objeto/string, 101 valores nulos), color_ojos (objeto/string, 100 valores nulos) y fecha_cumpleaños (objeto/string, 96 valores nulos). Además, informa sobre los tipos de datos presentes (1 float64, 2 int64, 4 object) y el uso de memoria del DataFrame (aproximadamente 54.8 KB).*"
   ]
  },
  {
   "cell_type": "code",
   "execution_count": 5,
   "id": "b5436559",
   "metadata": {},
   "outputs": [
    {
     "data": {
      "text/html": [
       "<div>\n",
       "<style scoped>\n",
       "    .dataframe tbody tr th:only-of-type {\n",
       "        vertical-align: middle;\n",
       "    }\n",
       "\n",
       "    .dataframe tbody tr th {\n",
       "        vertical-align: top;\n",
       "    }\n",
       "\n",
       "    .dataframe thead th {\n",
       "        text-align: right;\n",
       "    }\n",
       "</style>\n",
       "<table border=\"1\" class=\"dataframe\">\n",
       "  <thead>\n",
       "    <tr style=\"text-align: right;\">\n",
       "      <th></th>\n",
       "      <th>id</th>\n",
       "      <th>edad</th>\n",
       "      <th>altura</th>\n",
       "    </tr>\n",
       "  </thead>\n",
       "  <tbody>\n",
       "    <tr>\n",
       "      <th>count</th>\n",
       "      <td>1000.00000</td>\n",
       "      <td>901.000000</td>\n",
       "      <td>1000.000000</td>\n",
       "    </tr>\n",
       "    <tr>\n",
       "      <th>mean</th>\n",
       "      <td>500.30800</td>\n",
       "      <td>44.788013</td>\n",
       "      <td>170.484000</td>\n",
       "    </tr>\n",
       "    <tr>\n",
       "      <th>std</th>\n",
       "      <td>287.93665</td>\n",
       "      <td>16.884790</td>\n",
       "      <td>20.060612</td>\n",
       "    </tr>\n",
       "    <tr>\n",
       "      <th>min</th>\n",
       "      <td>1.00000</td>\n",
       "      <td>5.000000</td>\n",
       "      <td>100.000000</td>\n",
       "    </tr>\n",
       "    <tr>\n",
       "      <th>25%</th>\n",
       "      <td>250.75000</td>\n",
       "      <td>30.000000</td>\n",
       "      <td>153.000000</td>\n",
       "    </tr>\n",
       "    <tr>\n",
       "      <th>50%</th>\n",
       "      <td>500.50000</td>\n",
       "      <td>45.000000</td>\n",
       "      <td>169.000000</td>\n",
       "    </tr>\n",
       "    <tr>\n",
       "      <th>75%</th>\n",
       "      <td>748.25000</td>\n",
       "      <td>58.000000</td>\n",
       "      <td>186.000000</td>\n",
       "    </tr>\n",
       "    <tr>\n",
       "      <th>max</th>\n",
       "      <td>1000.00000</td>\n",
       "      <td>120.000000</td>\n",
       "      <td>300.000000</td>\n",
       "    </tr>\n",
       "  </tbody>\n",
       "</table>\n",
       "</div>"
      ],
      "text/plain": [
       "               id        edad       altura\n",
       "count  1000.00000  901.000000  1000.000000\n",
       "mean    500.30800   44.788013   170.484000\n",
       "std     287.93665   16.884790    20.060612\n",
       "min       1.00000    5.000000   100.000000\n",
       "25%     250.75000   30.000000   153.000000\n",
       "50%     500.50000   45.000000   169.000000\n",
       "75%     748.25000   58.000000   186.000000\n",
       "max    1000.00000  120.000000   300.000000"
      ]
     },
     "execution_count": 5,
     "metadata": {},
     "output_type": "execute_result"
    }
   ],
   "source": [
    "df.describe()"
   ]
  },
  {
   "cell_type": "markdown",
   "id": "7232d9e7",
   "metadata": {},
   "source": [
    "*La función ***df.describe()*** genera estadísticas descriptivas de las columnas numéricas del DataFrame df. Para las columnas id, edad y altura, muestra la cantidad de valores no nulos (count), la media, la desviación estándar (std), el valor mínimo (min), los cuartiles (25%, 50% o mediana, 75%) y el valor máximo (max). Esto revela información sobre la distribución de los datos numéricos, como los rangos, las tendencias centrales y la dispersión. Por ejemplo, la edad promedio es de aproximadamente 44.79 años, con un rango de 5 a 120 años, mientras que la altura promedio es de 170.48 con un rango de 100 a 300. La diferencia en el conteo para la columna 'edad' (901) en comparación con 'id' y 'altura' (1000) confirma la presencia de valores faltantes en esa columna.*"
   ]
  },
  {
   "cell_type": "code",
   "execution_count": 6,
   "id": "9adffb25",
   "metadata": {},
   "outputs": [
    {
     "name": "stdout",
     "output_type": "stream",
     "text": [
      "Valores nulos por columna:\n",
      "id                    0\n",
      "nombre              100\n",
      "edad                 99\n",
      "altura                0\n",
      "ciudad              101\n",
      "color_ojos          100\n",
      "fecha_cumpleaños     96\n",
      "dtype: int64\n"
     ]
    }
   ],
   "source": [
    "nulos = df.isnull().sum()\n",
    "print(\"Valores nulos por columna:\")\n",
    "print(nulos)"
   ]
  },
  {
   "cell_type": "markdown",
   "id": "abb30be5",
   "metadata": {},
   "source": [
    "*Este código calcula y muestra la cantidad de valores nulos presentes en cada columna del DataFrame df. Primero, df.isnull() crea un DataFrame booleano indicando qué valores son nulos. Luego, .sum() suma los True (interpretados como 1) por cada columna, resultando en una Serie llamada nulos que contiene el conteo de valores nulos por columna. Finalmente, se observa un encabezado descriptivo seguido de la Serie nulos, mostrando que columnas como nombre, edad, ciudad, color_ojos y fecha_cumpleaños tienen valores faltantes (100, 99, 101, 100 y 96 respectivamente), mientras que id y altura no tienen ningún valor nulo.*"
   ]
  },
  {
   "cell_type": "code",
   "execution_count": 7,
   "id": "18ceefb7",
   "metadata": {},
   "outputs": [
    {
     "data": {
      "text/plain": [
       "id                  0\n",
       "nombre              0\n",
       "edad                0\n",
       "altura              0\n",
       "ciudad              0\n",
       "color_ojos          0\n",
       "fecha_cumpleaños    0\n",
       "dtype: int64"
      ]
     },
     "execution_count": 7,
     "metadata": {},
     "output_type": "execute_result"
    }
   ],
   "source": [
    "# Eliminar valores nulos\n",
    "df_sin_nulos = df.dropna()\n",
    "df_sin_nulos.isnull().sum()"
   ]
  },
  {
   "cell_type": "markdown",
   "id": "3aaa6f56",
   "metadata": {},
   "source": [
    "*Este código busca eliminar las filas que contienen al menos un valor nulo del DataFrame original df. Primero, df.dropna() crea un nuevo DataFrame llamado df_sin_nulos que contiene solo las filas del DataFrame original donde no hay ningún valor nulo en ninguna de las columnas. Luego, df_sin_nulos.isnull().sum() se aplica a este nuevo DataFrame para contar la cantidad de valores nulos en cada columna. La salida muestra que para todas las columnas (id, nombre, edad, altura, ciudad, color_ojos, fecha_cumpleaños) el número de valores nulos es 0, lo que confirma que la función dropna() eliminó exitosamente todas las filas que contenían al menos un valor faltante.*"
   ]
  },
  {
   "cell_type": "code",
   "execution_count": null,
   "id": "ea478da2",
   "metadata": {},
   "outputs": [
    {
     "name": "stdout",
     "output_type": "stream",
     "text": [
      "Número de filas antes de la eliminación: 1000\n",
      "Número de filas después de la eliminación: 589\n"
     ]
    }
   ],
   "source": [
    "print(\"Número de filas antes de la eliminación:\", len(df)) \n",
    "print(\"Número de filas después de la eliminación:\", len(df_sin_nulos))"
   ]
  },
  {
   "cell_type": "markdown",
   "id": "1db55a80",
   "metadata": {},
   "source": [
    "*Este código muestra el impacto de la operación dropna(), revelando que de las 1000 filas originales, solo 589 filas no contenían ningún valor nulo en ninguna de sus columnas. Esto implica que 1000 - 589 = 411 filas fueron eliminadas porque contenían al menos un valor faltante.*"
   ]
  },
  {
   "cell_type": "code",
   "execution_count": 9,
   "id": "176e6808",
   "metadata": {},
   "outputs": [
    {
     "data": {
      "text/html": [
       "<div>\n",
       "<style scoped>\n",
       "    .dataframe tbody tr th:only-of-type {\n",
       "        vertical-align: middle;\n",
       "    }\n",
       "\n",
       "    .dataframe tbody tr th {\n",
       "        vertical-align: top;\n",
       "    }\n",
       "\n",
       "    .dataframe thead th {\n",
       "        text-align: right;\n",
       "    }\n",
       "</style>\n",
       "<table border=\"1\" class=\"dataframe\">\n",
       "  <thead>\n",
       "    <tr style=\"text-align: right;\">\n",
       "      <th></th>\n",
       "      <th>Usuario</th>\n",
       "      <th>Nombre</th>\n",
       "      <th>Edad</th>\n",
       "      <th>Altura</th>\n",
       "      <th>Ciudad</th>\n",
       "      <th>Ojos</th>\n",
       "      <th>Cumpleaños</th>\n",
       "    </tr>\n",
       "  </thead>\n",
       "  <tbody>\n",
       "    <tr>\n",
       "      <th>0</th>\n",
       "      <td>986</td>\n",
       "      <td>Pedro</td>\n",
       "      <td>36.0</td>\n",
       "      <td>157</td>\n",
       "      <td>Barcelona</td>\n",
       "      <td>Azul</td>\n",
       "      <td>06/2004</td>\n",
       "    </tr>\n",
       "    <tr>\n",
       "      <th>1</th>\n",
       "      <td>613</td>\n",
       "      <td>Luisa</td>\n",
       "      <td>63.0</td>\n",
       "      <td>158</td>\n",
       "      <td>Sevilla</td>\n",
       "      <td>Marrón</td>\n",
       "      <td>12/1985</td>\n",
       "    </tr>\n",
       "    <tr>\n",
       "      <th>4</th>\n",
       "      <td>516</td>\n",
       "      <td>Ana</td>\n",
       "      <td>70.0</td>\n",
       "      <td>144</td>\n",
       "      <td>Madrid</td>\n",
       "      <td>Verde</td>\n",
       "      <td>11/1992</td>\n",
       "    </tr>\n",
       "    <tr>\n",
       "      <th>5</th>\n",
       "      <td>208</td>\n",
       "      <td>María</td>\n",
       "      <td>25.0</td>\n",
       "      <td>181</td>\n",
       "      <td>Valencia</td>\n",
       "      <td>Marrón</td>\n",
       "      <td>04/1994</td>\n",
       "    </tr>\n",
       "    <tr>\n",
       "      <th>6</th>\n",
       "      <td>833</td>\n",
       "      <td>Juan</td>\n",
       "      <td>65.0</td>\n",
       "      <td>191</td>\n",
       "      <td>Barcelona</td>\n",
       "      <td>Marrón</td>\n",
       "      <td>05/1981</td>\n",
       "    </tr>\n",
       "    <tr>\n",
       "      <th>...</th>\n",
       "      <td>...</td>\n",
       "      <td>...</td>\n",
       "      <td>...</td>\n",
       "      <td>...</td>\n",
       "      <td>...</td>\n",
       "      <td>...</td>\n",
       "      <td>...</td>\n",
       "    </tr>\n",
       "    <tr>\n",
       "      <th>990</th>\n",
       "      <td>65</td>\n",
       "      <td>Pablo</td>\n",
       "      <td>21.0</td>\n",
       "      <td>175</td>\n",
       "      <td>Zaragoza</td>\n",
       "      <td>Azul</td>\n",
       "      <td>04/1987</td>\n",
       "    </tr>\n",
       "    <tr>\n",
       "      <th>992</th>\n",
       "      <td>930</td>\n",
       "      <td>Luisa</td>\n",
       "      <td>19.0</td>\n",
       "      <td>140</td>\n",
       "      <td>Sevilla</td>\n",
       "      <td>Negro</td>\n",
       "      <td>02/2005</td>\n",
       "    </tr>\n",
       "    <tr>\n",
       "      <th>994</th>\n",
       "      <td>954</td>\n",
       "      <td>Carlos</td>\n",
       "      <td>42.0</td>\n",
       "      <td>155</td>\n",
       "      <td>Barcelona</td>\n",
       "      <td>Negro</td>\n",
       "      <td>11/2003</td>\n",
       "    </tr>\n",
       "    <tr>\n",
       "      <th>996</th>\n",
       "      <td>616</td>\n",
       "      <td>Juan</td>\n",
       "      <td>50.0</td>\n",
       "      <td>161</td>\n",
       "      <td>Barcelona</td>\n",
       "      <td>Marrón</td>\n",
       "      <td>01/2003</td>\n",
       "    </tr>\n",
       "    <tr>\n",
       "      <th>999</th>\n",
       "      <td>896</td>\n",
       "      <td>Pablo</td>\n",
       "      <td>56.0</td>\n",
       "      <td>187</td>\n",
       "      <td>Sevilla</td>\n",
       "      <td>Azul</td>\n",
       "      <td>05/1992</td>\n",
       "    </tr>\n",
       "  </tbody>\n",
       "</table>\n",
       "<p>589 rows × 7 columns</p>\n",
       "</div>"
      ],
      "text/plain": [
       "     Usuario  Nombre  Edad  Altura     Ciudad    Ojos Cumpleaños\n",
       "0        986   Pedro  36.0     157  Barcelona    Azul    06/2004\n",
       "1        613   Luisa  63.0     158    Sevilla  Marrón    12/1985\n",
       "4        516     Ana  70.0     144     Madrid   Verde    11/1992\n",
       "5        208   María  25.0     181   Valencia  Marrón    04/1994\n",
       "6        833    Juan  65.0     191  Barcelona  Marrón    05/1981\n",
       "..       ...     ...   ...     ...        ...     ...        ...\n",
       "990       65   Pablo  21.0     175   Zaragoza    Azul    04/1987\n",
       "992      930   Luisa  19.0     140    Sevilla   Negro    02/2005\n",
       "994      954  Carlos  42.0     155  Barcelona   Negro    11/2003\n",
       "996      616    Juan  50.0     161  Barcelona  Marrón    01/2003\n",
       "999      896   Pablo  56.0     187    Sevilla    Azul    05/1992\n",
       "\n",
       "[589 rows x 7 columns]"
      ]
     },
     "execution_count": 9,
     "metadata": {},
     "output_type": "execute_result"
    }
   ],
   "source": [
    "# Renombrar las variables\n",
    "\n",
    "df = df_sin_nulos.rename(columns={\n",
    "    'id': 'Usuario',\n",
    "    'nombre': 'Nombre',\n",
    "    'edad': 'Edad',\n",
    "    'altura':'Altura',\n",
    "    'ciudad': 'Ciudad',\n",
    "    'color_ojos': 'Ojos',\n",
    "    'fecha_cumpleaños': 'Cumpleaños',})\n",
    "\n",
    "df"
   ]
  },
  {
   "cell_type": "markdown",
   "id": "14da2569",
   "metadata": {},
   "source": [
    "*Este código utiliza el método .rename() en el DataFrame df_sin_nulos para cambiar los nombres de sus columnas. Se proporciona un diccionario donde las claves son los nombres originales de las columnas ('id', 'nombre', 'edad', 'altura', 'ciudad', 'color_ojos', 'fecha_cumpleaños') y los valores son los nuevos nombres deseados ('Usuario', 'Nombre', 'Edad', 'Altura', 'Ciudad', 'Ojos', 'Cumpleaños'). El DataFrame resultante con las columnas renombradas se asigna de nuevo a la variable df. La salida muestra una vista parcial del DataFrame con los nuevos nombres de columna y confirma que mantiene las 589 filas y 7 columnas resultantes de la eliminación de valores nulos.*"
   ]
  },
  {
   "cell_type": "code",
   "execution_count": 10,
   "id": "0049b936",
   "metadata": {},
   "outputs": [
    {
     "name": "stdout",
     "output_type": "stream",
     "text": [
      "Usuario         int64\n",
      "Nombre         object\n",
      "Edad          float64\n",
      "Altura          int64\n",
      "Ciudad         object\n",
      "Ojos           object\n",
      "Cumpleaños     object\n",
      "dtype: object\n"
     ]
    }
   ],
   "source": [
    "dtype_original = df.dtypes\n",
    "print(df.dtypes)"
   ]
  },
  {
   "cell_type": "markdown",
   "id": "9fdec7f1",
   "metadata": {},
   "source": [
    "*Este código extrae los tipos de datos de cada columna del DataFrame df utilizando el atributo .dtypes y los almacena en la variable dtype_original. Posteriormente, imprime esta Serie que muestra el nombre de cada columna junto con su respectivo tipo de dato. La salida revela que la columna 'Usuario' y 'Altura' son de tipo entero (int64), 'Edad' es de tipo float (float64), mientras que 'Nombre', 'Ciudad', 'Ojos' y 'Cumpleaños' son de tipo 'object', lo que generalmente indica que contienen cadenas de texto o una mezcla de tipos.*"
   ]
  },
  {
   "cell_type": "code",
   "execution_count": 11,
   "id": "c975357b",
   "metadata": {},
   "outputs": [
    {
     "name": "stdout",
     "output_type": "stream",
     "text": [
      "Filas antes de eliminar valores atípicos: 589\n",
      "Filas después de eliminar valores atípicos: 582\n",
      "DataFrame después de eliminar valores atípicos:\n",
      "      id  edad  altura\n",
      "0    986  36.0     157\n",
      "1    613  63.0     158\n",
      "4    516  70.0     144\n",
      "5    208  25.0     181\n",
      "6    833  65.0     191\n",
      "..   ...   ...     ...\n",
      "990   65  21.0     175\n",
      "992  930  19.0     140\n",
      "994  954  42.0     155\n",
      "996  616  50.0     161\n",
      "999  896  56.0     187\n",
      "\n",
      "[582 rows x 3 columns]\n"
     ]
    }
   ],
   "source": [
    "df_numerico = df_sin_nulos.select_dtypes(include=['float64', 'int64'])\n",
    "\n",
    "Q1 = df_numerico.quantile(0.25)\n",
    "Q3 = df_numerico.quantile(0.75)\n",
    "IQR = Q3 - Q1\n",
    "df_numerico = df_numerico[~((df_numerico < (Q1 - 1.5 * IQR)) | (df_numerico > (Q3 + 1.5 * IQR))).any(axis=1)]\n",
    "\n",
    "print(f\"Filas antes de eliminar valores atípicos: {df.shape[0]}\")\n",
    "print(f\"Filas después de eliminar valores atípicos: {df_numerico.shape[0]}\")\n",
    "print(\"DataFrame después de eliminar valores atípicos:\")\n",
    "print(df_numerico)"
   ]
  },
  {
   "cell_type": "markdown",
   "id": "a185adcf",
   "metadata": {},
   "source": [
    "*Este código identifica y elimina valores atípicos de las columnas numéricas ('id', 'edad', 'altura') del DataFrame df_sin_nulos. Primero, selecciona solo las columnas numéricas en un nuevo DataFrame df_numerico. Luego, calcula el primer cuartil (Q1), el tercer cuartil (Q3) y el Rango Intercuartílico (IQR) para cada columna numérica. Utiliza estos valores para definir los límites de los valores atípicos (fuera de [Q1 - 1.5 \\times IQR, Q3 + 1.5 \\times IQR]) y filtra el DataFrame df_numerico para mantener solo las filas donde ningún valor en las columnas numéricas se considera un atípico. Finalmente, imprime el número de filas antes y después de la eliminación de los atípicos, mostrando que el DataFrame pasó de 589 a 582 filas, y presenta una muestra del DataFrame resultante sin los valores atípicos detectados.*"
   ]
  },
  {
   "cell_type": "code",
   "execution_count": 12,
   "id": "f22fcd58",
   "metadata": {},
   "outputs": [
    {
     "name": "stdout",
     "output_type": "stream",
     "text": [
      "Número de filas con duplicados: 589\n",
      "Número de filas sin duplicados: 581\n",
      "Duplicados restantes: 0\n"
     ]
    }
   ],
   "source": [
    "df_antes = df.copy()\n",
    "\n",
    "df.drop_duplicates(inplace=True)\n",
    "\n",
    "print(f\"Número de filas con duplicados: {df_antes.shape[0]}\")\n",
    "print(f\"Número de filas sin duplicados: {df.shape[0]}\")\n",
    "\n",
    "# Comprobar si hay duplicados restantes\n",
    "duplicated = df.duplicated().sum()\n",
    "print(f\"Duplicados restantes: {duplicated}\")"
   ]
  },
  {
   "cell_type": "markdown",
   "id": "127c1bb1",
   "metadata": {},
   "source": [
    "*Este código comienza creando una copia del DataFrame df en df_antes. Luego, utiliza el método drop_duplicates(inplace=True) para eliminar las filas duplicadas directamente del DataFrame df. A continuación, imprime el número de filas que tenía el DataFrame antes de la eliminación (589) y el número de filas que quedaron después de eliminar las duplicadas (581). Finalmente, comprueba si quedan duplicados en el DataFrame resultante utilizando df.duplicated().sum(), imprimiendo que el número de duplicados restantes es 0, lo que confirma que la eliminación fue exitosa y se removieron 8 filas duplicadas.*"
   ]
  }
 ],
 "metadata": {
  "kernelspec": {
   "display_name": "Python 3",
   "language": "python",
   "name": "python3"
  },
  "language_info": {
   "codemirror_mode": {
    "name": "ipython",
    "version": 3
   },
   "file_extension": ".py",
   "mimetype": "text/x-python",
   "name": "python",
   "nbconvert_exporter": "python",
   "pygments_lexer": "ipython3",
   "version": "3.13.1"
  }
 },
 "nbformat": 4,
 "nbformat_minor": 5
}
